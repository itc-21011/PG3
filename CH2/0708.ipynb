{
 "cells": [
  {
   "cell_type": "code",
   "execution_count": 17,
   "metadata": {},
   "outputs": [],
   "source": [
    "ope_list = ['+','-','*','/']"
   ]
  },
  {
   "cell_type": "code",
   "execution_count": 18,
   "metadata": {},
   "outputs": [
    {
     "data": {
      "text/plain": [
       "['+', '-', '*', '/']"
      ]
     },
     "execution_count": 18,
     "metadata": {},
     "output_type": "execute_result"
    }
   ],
   "source": [
    "ope_list"
   ]
  },
  {
   "cell_type": "code",
   "execution_count": 15,
   "metadata": {},
   "outputs": [],
   "source": [
    "int_list = [1,2,3,4,5,6,7,8,9]"
   ]
  },
  {
   "cell_type": "code",
   "execution_count": 16,
   "metadata": {},
   "outputs": [
    {
     "data": {
      "text/plain": [
       "[1, 2, 3, 4, 5, 6, 7, 8, 9]"
      ]
     },
     "execution_count": 16,
     "metadata": {},
     "output_type": "execute_result"
    }
   ],
   "source": [
    "int_list"
   ]
  },
  {
   "cell_type": "code",
   "execution_count": 24,
   "metadata": {},
   "outputs": [
    {
     "data": {
      "text/plain": [
       "'9-2'"
      ]
     },
     "execution_count": 24,
     "metadata": {},
     "output_type": "execute_result"
    }
   ],
   "source": [
    "import random\n",
    "\n",
    "intA = random.randint(0,8)\n",
    "opeA = random.randint(0,3)\n",
    "intB = random.randint(0,8)\n",
    "\n",
    "str(int_list[intA])+ope_list[opeA]+str(int_list[intB])"
   ]
  },
  {
   "cell_type": "code",
   "execution_count": 53,
   "metadata": {},
   "outputs": [
    {
     "data": {
      "text/plain": [
       "'2/7'"
      ]
     },
     "execution_count": 53,
     "metadata": {},
     "output_type": "execute_result"
    }
   ],
   "source": [
    "import random\n",
    "\n",
    "ope_list = ['+','-','*','/']\n",
    "int_list = [1,2,3,4,5,6,7,8,9]\n",
    "\n",
    "intA = random.randint(0,8)\n",
    "opeA = random.randint(0,3)\n",
    "intB = random.randint(0,8)\n",
    "\n",
    "str(int_list[intA])+ope_list[opeA]+str(int_list[intB])"
   ]
  },
  {
   "cell_type": "code",
   "execution_count": 122,
   "metadata": {},
   "outputs": [
    {
     "name": "stdout",
     "output_type": "stream",
     "text": [
      "6-4%4\n"
     ]
    }
   ],
   "source": [
    "import random\n",
    "\n",
    "ope_list = ['+','-','*','/','//','**','%']\n",
    "int_list = [1,2,3,4,5,6,7,8,9]\n",
    "\n",
    "intA = random.randint(0,len(int_list)-1)\n",
    "int_form = str(int_list[intA])\n",
    "\n",
    "for a in range(1,3):\n",
    "    opeA = random.randint(0,len(ope_list)-1)\n",
    "    intB = random.randint(0,len(int_list)-1)\n",
    "    int_form += ope_list[opeA]+str(int_list[intB])\n",
    "\n",
    "print(int_form)"
   ]
  },
  {
   "cell_type": "code",
   "execution_count": 130,
   "metadata": {},
   "outputs": [
    {
     "name": "stdout",
     "output_type": "stream",
     "text": [
      "1+2\n"
     ]
    }
   ],
   "source": [
    "ope_list = ['+','-','*','/']\n",
    "int_list = [1,2,3,4,5,6,7,8,9]\n",
    "\n",
    "print(str(int_list[0])+ope_list[0]+str(int_list[1]))"
   ]
  },
  {
   "cell_type": "code",
   "execution_count": 131,
   "metadata": {},
   "outputs": [
    {
     "name": "stdout",
     "output_type": "stream",
     "text": [
      "1+2\n"
     ]
    }
   ],
   "source": [
    "ope_list = ['+','-','*','/']\n",
    "int_list = [1,2,3,4,5,6,7,8,9]\n",
    "\n",
    "intA = 0\n",
    "opeA = 0\n",
    "intB = 1\n",
    "\n",
    "print(str(int_list[intA])+ope_list[opeA]+str(int_list[intB]))"
   ]
  },
  {
   "cell_type": "code",
   "execution_count": 133,
   "metadata": {},
   "outputs": [
    {
     "name": "stdout",
     "output_type": "stream",
     "text": [
      "1+2\n"
     ]
    }
   ],
   "source": [
    "ope_list = ['+','-','*','/']\n",
    "int_list = [1,2,3,4,5,6,7,8,9]\n",
    "\n",
    "intA = 0\n",
    "opeA = 0\n",
    "intB = 1\n",
    "int_form = str(int_list[intA])+ope_list[opeA]+str(int_list[intB])\n",
    "\n",
    "print(int_form)"
   ]
  },
  {
   "cell_type": "code",
   "execution_count": 132,
   "metadata": {},
   "outputs": [
    {
     "name": "stdout",
     "output_type": "stream",
     "text": [
      "1+2\n"
     ]
    }
   ],
   "source": [
    "ope_list = ['+','-','*','/']\n",
    "int_list = [1,2,3,4,5,6,7,8,9]\n",
    "\n",
    "intA = 0\n",
    "int_form = str(int_list[intA])\n",
    "\n",
    "opeA = 0\n",
    "intB = 1\n",
    "int_form += ope_list[opeA]+str(int_list[intB])\n",
    "\n",
    "print(int_form)"
   ]
  },
  {
   "cell_type": "code",
   "execution_count": 135,
   "metadata": {},
   "outputs": [
    {
     "name": "stdout",
     "output_type": "stream",
     "text": [
      "4+9\n"
     ]
    }
   ],
   "source": [
    "import random\n",
    "\n",
    "ope_list = ['+','-','*','/']\n",
    "int_list = [1,2,3,4,5,6,7,8,9]\n",
    "\n",
    "intA = random.randint(0,8)\n",
    "int_form = str(int_list[intA])\n",
    "\n",
    "opeA = random.randint(0,3)\n",
    "intB = random.randint(0,8)\n",
    "int_form += ope_list[opeA]+str(int_list[intB])\n",
    "\n",
    "print(int_form)"
   ]
  },
  {
   "cell_type": "code",
   "execution_count": null,
   "metadata": {},
   "outputs": [],
   "source": []
  }
 ],
 "metadata": {
  "kernelspec": {
   "display_name": "Python 3",
   "language": "python",
   "name": "python3"
  },
  "language_info": {
   "codemirror_mode": {
    "name": "ipython",
    "version": 3
   },
   "file_extension": ".py",
   "mimetype": "text/x-python",
   "name": "python",
   "nbconvert_exporter": "python",
   "pygments_lexer": "ipython3",
   "version": "3.8.5"
  }
 },
 "nbformat": 4,
 "nbformat_minor": 4
}
